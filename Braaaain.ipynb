{
 "cells": [
  {
   "cell_type": "code",
   "execution_count": 1,
   "metadata": {},
   "outputs": [
    {
     "name": "stdout",
     "output_type": "stream",
     "text": [
      "WARNING:tensorflow:\n",
      "The TensorFlow contrib module will not be included in TensorFlow 2.0.\n",
      "For more information, please see:\n",
      "  * https://github.com/tensorflow/community/blob/master/rfcs/20180907-contrib-sunset.md\n",
      "  * https://github.com/tensorflow/addons\n",
      "  * https://github.com/tensorflow/io (for I/O related ops)\n",
      "If you depend on functionality not listed there, please file an issue.\n",
      "\n"
     ]
    }
   ],
   "source": [
    "from ludwig.api import *\n",
    "import pandas as pd"
   ]
  },
  {
   "cell_type": "code",
   "execution_count": 2,
   "metadata": {},
   "outputs": [],
   "source": [
    "import os\n",
    "yes_brain = []\n",
    "no_brain = []\n",
    "for root, dirs, files in os.walk(\"./brain_images/yes\"):\n",
    "    for file in files:\n",
    "        path = r'/brain_images/yes/'\n",
    "        itog = os.getcwd() + path + file\n",
    "        yes_brain.append([itog])\n",
    "for root, dirs, files in os.walk(\"./brain_images/no\"):\n",
    "    for file in files:\n",
    "        path = r'/brain_images/no/'\n",
    "        itog = os.getcwd() + path + file\n",
    "        no_brain.append([itog])\n",
    "        \n",
    "df = pd.DataFrame (yes_brain + no_brain)\n",
    "results = [1]*155 + [0]*98\n",
    "df.insert(1, \"Results\", results, True)\n",
    "df.columns = ['brain_image', 'Results']\n",
    "df.to_csv('brain.csv')\n",
    "data = pd.read_csv('brain.csv', index_col=[0])"
   ]
  },
  {
   "cell_type": "code",
   "execution_count": 3,
   "metadata": {},
   "outputs": [],
   "source": [
    "data['Results'] = pd.to_numeric(data['Results'])"
   ]
  },
  {
   "cell_type": "code",
   "execution_count": 4,
   "metadata": {},
   "outputs": [],
   "source": [
    "model_definition = {\n",
    "    \"input_features\": [\n",
    "        {\"name\": \"brain_image\", \"type\": \"image\", \"preprocessing\":\n",
    "          {\"height\": 128,\n",
    "          \"width\": 128,\n",
    "          \"resize_method\": \"interpolate\",\n",
    "          \"scaling\": \"pixel_normalization\",\n",
    "          \"num_channels\": 1},\n",
    "        }\n",
    "    ],\n",
    "    \"output_features\": [\n",
    "        {\"name\": \"Results\", \"type\": \"numerical\"}\n",
    "    ]\n",
    "}"
   ]
  },
  {
   "cell_type": "code",
   "execution_count": null,
   "metadata": {},
   "outputs": [
    {
     "name": "stdout",
     "output_type": "stream",
     "text": [
      "WARNING:tensorflow:From C:\\Users\\user.DESKTOP-CKR469D\\Anaconda3\\lib\\site-packages\\ludwig\\models\\modules\\convolutional_modules.py:74: dropout (from tensorflow.python.layers.core) is deprecated and will be removed in a future version.\n",
      "Instructions for updating:\n",
      "Use keras.layers.dropout instead.\n",
      "WARNING:tensorflow:From C:\\Users\\user.DESKTOP-CKR469D\\Anaconda3\\lib\\site-packages\\tensorflow_core\\python\\layers\\core.py:271: Layer.apply (from tensorflow.python.keras.engine.base_layer) is deprecated and will be removed in a future version.\n",
      "Instructions for updating:\n",
      "Please use `layer.__call__` method instead.\n",
      "WARNING:tensorflow:From C:\\Users\\user.DESKTOP-CKR469D\\Anaconda3\\lib\\site-packages\\ludwig\\models\\modules\\convolutional_modules.py:585: The name tf.nn.max_pool is deprecated. Please use tf.nn.max_pool2d instead.\n",
      "\n"
     ]
    }
   ],
   "source": [
    "model = LudwigModel(model_definition)\n",
    "train_stats = model.train(df)"
   ]
  }
 ],
 "metadata": {
  "kernelspec": {
   "display_name": "Python 3",
   "language": "python",
   "name": "python3"
  },
  "language_info": {
   "codemirror_mode": {
    "name": "ipython",
    "version": 3
   },
   "file_extension": ".py",
   "mimetype": "text/x-python",
   "name": "python",
   "nbconvert_exporter": "python",
   "pygments_lexer": "ipython3",
   "version": "3.7.4"
  }
 },
 "nbformat": 4,
 "nbformat_minor": 2
}
